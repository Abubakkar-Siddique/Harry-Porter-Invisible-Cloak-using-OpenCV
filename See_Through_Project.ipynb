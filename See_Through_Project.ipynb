{
 "cells": [
  {
   "cell_type": "code",
   "execution_count": 18,
   "metadata": {},
   "outputs": [],
   "source": [
    "import cv2 \n",
    "import numpy as np\n",
    "import time\n",
    "\n",
    "# define a video capture object \n",
    "video = cv2.VideoCapture(0)\n",
    "time.sleep(3)\n",
    "\n",
    "background = 0\n",
    "\n",
    "# capture frame in first 30 seconds \n",
    "for x in range(30):\n",
    "    ret, background = video.read() \n",
    "\n",
    "# flip that background frames\n",
    "background = np.flip(background, axis = 1) \n",
    "  \n",
    "while(True): \n",
    "      \n",
    "    # Capture the video frame by frame \n",
    "    ret, frame = video.read() \n",
    "  \n",
    "    # flip the captured frames\n",
    "    frame = np.flip(frame, axis = 1)\n",
    "    \n",
    "    # choose color red from image\n",
    "    hsv = cv2.cvtColor(frame, cv2.COLOR_BGR2HSV)\n",
    "    blur = cv2.GaussianBlur(hsv, (75,75), 0)\n",
    "    \n",
    "    #lower red\n",
    "    lower_red = np.array([0,50,50])\n",
    "    upper_red = np.array([10,255,255])\n",
    "    #upper red\n",
    "    lower_red2 = np.array([170,50,50])\n",
    "    upper_red2 = np.array([180,255,255])\n",
    "    \n",
    "    mask1 = cv2.inRange(hsv, lower_red, upper_red)\n",
    "    #res1 = cv2.bitwise_and(frame, frame, mask= mask1)\n",
    "    mask2 = cv2.inRange(hsv, lower_red2, upper_red2)\n",
    "    #res2 = cv2.bitwise_and(frame, frame, mask= mask2)\n",
    "    \n",
    "    mask = cv2.add(mask1, mask2)\n",
    "    \n",
    "    mask = cv2.morphologyEx(mask, cv2.MORPH_OPEN, np.ones((5,5), np.uint8))\n",
    "    \n",
    "    frame[np.where(mask==255)] = background[np.where(mask==255)]\n",
    "    \n",
    "    # Display the resulting frame \n",
    "    cv2.imshow('Capture', frame) \n",
    "    \n",
    "    k = cv2.waitKey(1)\n",
    "    # the 'q' button is set as the quitting button \n",
    "    if k == ord('q'): \n",
    "        break\n",
    "  \n",
    "# After the loop release the cap object \n",
    "video.release() \n",
    "# Destroy all the windows \n",
    "cv2.destroyAllWindows() "
   ]
  },
  {
   "cell_type": "code",
   "execution_count": null,
   "metadata": {},
   "outputs": [],
   "source": []
  },
  {
   "cell_type": "code",
   "execution_count": null,
   "metadata": {},
   "outputs": [],
   "source": []
  }
 ],
 "metadata": {
  "kernelspec": {
   "display_name": "Python 3",
   "language": "python",
   "name": "python3"
  },
  "language_info": {
   "codemirror_mode": {
    "name": "ipython",
    "version": 3
   },
   "file_extension": ".py",
   "mimetype": "text/x-python",
   "name": "python",
   "nbconvert_exporter": "python",
   "pygments_lexer": "ipython3",
   "version": "3.8.3"
  }
 },
 "nbformat": 4,
 "nbformat_minor": 4
}
